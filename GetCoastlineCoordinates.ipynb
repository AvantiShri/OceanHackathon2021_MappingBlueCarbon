{
 "cells": [
  {
   "cell_type": "code",
   "execution_count": 51,
   "id": "db13d152",
   "metadata": {},
   "outputs": [],
   "source": [
    "import fiona\n",
    "import csv"
   ]
  },
  {
   "cell_type": "code",
   "execution_count": null,
   "id": "4d2f1d80",
   "metadata": {},
   "outputs": [],
   "source": [
    "import fiona\n",
    "adm = fiona.open(\"gadm36_GBR_0.shp\")\n",
    "#should be a single feature - the whole country\n",
    "for feature in adm:\n",
    "    geom = feature[\"geometry\"] \n",
    "    #geom[\"type\"] should be MultiPolygon\n",
    "    for polygon in geom[\"coordinates\"]:\n",
    "        for ring in polygon:\n",
    "            for coordinate in ring:\n",
    "                print(coordinate[0], coordinate[1])"
   ]
  },
  {
   "cell_type": "code",
   "execution_count": 48,
   "id": "89ad3288",
   "metadata": {},
   "outputs": [],
   "source": [
    "#going with low resolution for now\n",
    "shp = fiona.open(\"/Users/adrienne/Projects/OceanHackathon2021/gshhg-shp-2.3.7/GSHHS_shp/l/GSHHS_l_L1.shp\")"
   ]
  },
  {
   "cell_type": "code",
   "execution_count": 52,
   "id": "10d02544",
   "metadata": {},
   "outputs": [
    {
     "name": "stdout",
     "output_type": "stream",
     "text": [
      "processing ix 0 out of 5706\n",
      "processing ix 1000 out of 5706\n",
      "processing ix 2000 out of 5706\n",
      "processing ix 3000 out of 5706\n",
      "processing ix 4000 out of 5706\n",
      "processing ix 5000 out of 5706\n"
     ]
    }
   ],
   "source": [
    "with open('coastal_boundaries_lowres.csv', 'w', newline='') as csvfile:\n",
    "    writer = csv.writer(csvfile)\n",
    "    writer.writerow(['site_tag','latitude','longitude','start_date','end_date','kmAboveBelow','kmLeftRight'])\n",
    "\n",
    "    for ix,feature in enumerate(shp):\n",
    "        if ix % 1000 == 0:\n",
    "            print('processing ix',ix,'out of',len(shp))\n",
    "        geom = feature[\"geometry\"] \n",
    "        #geom[\"type\"] should be Polygon\n",
    "        for polygon in geom[\"coordinates\"]:\n",
    "            for coordinate in polygon:\n",
    "                lat = coordinate[1]\n",
    "                lon = coordinate[0]\n",
    "                #write coordinate to file\n",
    "                writer.writerow(['coastline',lat,lon,'4/1/20','4/8/20',56,56])"
   ]
  },
  {
   "cell_type": "code",
   "execution_count": 53,
   "id": "a7904d54",
   "metadata": {},
   "outputs": [
    {
     "data": {
      "text/plain": [
       "'/Users/adrienne/Projects/OceanHackathon2021'"
      ]
     },
     "execution_count": 53,
     "metadata": {},
     "output_type": "execute_result"
    }
   ],
   "source": [
    "pwd"
   ]
  },
  {
   "cell_type": "code",
   "execution_count": 44,
   "id": "71a0e9da",
   "metadata": {},
   "outputs": [
    {
     "data": {
      "text/plain": [
       "5706"
      ]
     },
     "execution_count": 44,
     "metadata": {},
     "output_type": "execute_result"
    }
   ],
   "source": [
    "len(shp)"
   ]
  },
  {
   "cell_type": "code",
   "execution_count": 50,
   "id": "fe2670a6",
   "metadata": {},
   "outputs": [
    {
     "data": {
      "text/plain": [
       "(180.0, 68.993778)"
      ]
     },
     "execution_count": 50,
     "metadata": {},
     "output_type": "execute_result"
    }
   ],
   "source": [
    "shp[0]['geometry']['coordinates'][0][0]"
   ]
  },
  {
   "cell_type": "code",
   "execution_count": 46,
   "id": "0c6a5eff",
   "metadata": {},
   "outputs": [
    {
     "data": {
      "text/plain": [
       "{'type': 'Feature',\n",
       " 'id': '300',\n",
       " 'properties': OrderedDict([('id', '325'),\n",
       "              ('level', 1),\n",
       "              ('source', 'WVS'),\n",
       "              ('parent_id', -1),\n",
       "              ('sibling_id', 325),\n",
       "              ('area', 968.461886889)]),\n",
       " 'geometry': {'type': 'Polygon',\n",
       "  'coordinates': [[(56.994944, 80.440417),\n",
       "    (56.982278, 80.442472),\n",
       "    (58.319889, 80.459528),\n",
       "    (59.302444, 80.315806),\n",
       "    (58.194667, 80.263722),\n",
       "    (58.432333, 80.139972),\n",
       "    (57.98975, 80.168722),\n",
       "    (57.835, 80.09125),\n",
       "    (57.332306, 80.154194),\n",
       "    (56.994944, 80.440417)]]}}"
      ]
     },
     "execution_count": 46,
     "metadata": {},
     "output_type": "execute_result"
    }
   ],
   "source": [
    "shp[300]"
   ]
  },
  {
   "cell_type": "code",
   "execution_count": 47,
   "id": "041adaa3",
   "metadata": {},
   "outputs": [
    {
     "data": {
      "text/plain": [
       "10"
      ]
     },
     "execution_count": 47,
     "metadata": {},
     "output_type": "execute_result"
    }
   ],
   "source": [
    "len(shp[300]['geometry']['coordinates'][0])"
   ]
  },
  {
   "cell_type": "code",
   "execution_count": null,
   "id": "b6e81e1c",
   "metadata": {},
   "outputs": [],
   "source": []
  },
  {
   "cell_type": "code",
   "execution_count": 54,
   "id": "88a36432",
   "metadata": {},
   "outputs": [],
   "source": [
    "#low res yields 56,000 coordinates, ~4GB once images downloaded; do again for crude resolution \n",
    "shp = fiona.open(\"/Users/adrienne/Projects/OceanHackathon2021/gshhg-shp-2.3.7/GSHHS_shp/c/GSHHS_c_L1.shp\")"
   ]
  },
  {
   "cell_type": "code",
   "execution_count": 55,
   "id": "8faa7062",
   "metadata": {},
   "outputs": [
    {
     "name": "stdout",
     "output_type": "stream",
     "text": [
      "processing ix 0 out of 742\n",
      "processing ix 100 out of 742\n",
      "processing ix 200 out of 742\n",
      "processing ix 300 out of 742\n",
      "processing ix 400 out of 742\n",
      "processing ix 500 out of 742\n",
      "processing ix 600 out of 742\n",
      "processing ix 700 out of 742\n"
     ]
    }
   ],
   "source": [
    "with open('coastal_boundaries_cruderes.csv', 'w', newline='') as csvfile:\n",
    "    writer = csv.writer(csvfile)\n",
    "    writer.writerow(['site_tag','latitude','longitude','start_date','end_date','kmAboveBelow','kmLeftRight'])\n",
    "\n",
    "    for ix,feature in enumerate(shp):\n",
    "        if ix % 100 == 0:\n",
    "            print('processing ix',ix,'out of',len(shp))\n",
    "        geom = feature[\"geometry\"] \n",
    "        #geom[\"type\"] should be Polygon\n",
    "        for polygon in geom[\"coordinates\"]:\n",
    "            for coordinate in polygon:\n",
    "                lat = coordinate[1]\n",
    "                lon = coordinate[0]\n",
    "                #write coordinate to file\n",
    "                writer.writerow(['coastline',lat,lon,'4/1/20','4/8/20',56,56])"
   ]
  },
  {
   "cell_type": "code",
   "execution_count": 56,
   "id": "6c39e114",
   "metadata": {},
   "outputs": [],
   "source": [
    "#this yields 7,283 images, ~600MB images once downloaded"
   ]
  },
  {
   "cell_type": "code",
   "execution_count": null,
   "id": "0e2a2774",
   "metadata": {},
   "outputs": [],
   "source": []
  }
 ],
 "metadata": {
  "kernelspec": {
   "display_name": "Python 3 (ipykernel)",
   "language": "python",
   "name": "python3"
  },
  "language_info": {
   "codemirror_mode": {
    "name": "ipython",
    "version": 3
   },
   "file_extension": ".py",
   "mimetype": "text/x-python",
   "name": "python",
   "nbconvert_exporter": "python",
   "pygments_lexer": "ipython3",
   "version": "3.7.11"
  },
  "toc": {
   "base_numbering": 1,
   "nav_menu": {},
   "number_sections": true,
   "sideBar": true,
   "skip_h1_title": false,
   "title_cell": "Table of Contents",
   "title_sidebar": "Contents",
   "toc_cell": false,
   "toc_position": {},
   "toc_section_display": true,
   "toc_window_display": false
  }
 },
 "nbformat": 4,
 "nbformat_minor": 5
}
